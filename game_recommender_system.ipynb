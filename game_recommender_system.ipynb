{
  "cells": [
    {
      "cell_type": "markdown",
      "metadata": {
        "id": "view-in-github",
        "colab_type": "text"
      },
      "source": [
        "<a href=\"https://colab.research.google.com/github/TanushKrashak/Py_GameRecommendationSystem/blob/main/game_recommender_system.ipynb\" target=\"_parent\"><img src=\"https://colab.research.google.com/assets/colab-badge.svg\" alt=\"Open In Colab\"/></a>"
      ]
    },
    {
      "cell_type": "code",
      "execution_count": null,
      "id": "a92a7ef5-3687-4026-9553-eb7b7e2490a8",
      "metadata": {
        "id": "a92a7ef5-3687-4026-9553-eb7b7e2490a8"
      },
      "outputs": [],
      "source": [
        "import numpy as np\n",
        "import pandas as pd"
      ]
    },
    {
      "cell_type": "code",
      "execution_count": null,
      "id": "0d73c1b0-2f85-43ab-b1d2-bb2e02159230",
      "metadata": {
        "id": "0d73c1b0-2f85-43ab-b1d2-bb2e02159230"
      },
      "outputs": [],
      "source": [
        "games = pd.read_csv('games.csv')"
      ]
    },
    {
      "cell_type": "code",
      "execution_count": null,
      "id": "f54a05a2-8b4e-4a77-9b68-31927ee76213",
      "metadata": {
        "id": "f54a05a2-8b4e-4a77-9b68-31927ee76213",
        "outputId": "7961006b-d793-43fc-c8bf-31e44b529425"
      },
      "outputs": [
        {
          "data": {
            "text/html": [
              "<div>\n",
              "<style scoped>\n",
              "    .dataframe tbody tr th:only-of-type {\n",
              "        vertical-align: middle;\n",
              "    }\n",
              "\n",
              "    .dataframe tbody tr th {\n",
              "        vertical-align: top;\n",
              "    }\n",
              "\n",
              "    .dataframe thead th {\n",
              "        text-align: right;\n",
              "    }\n",
              "</style>\n",
              "<table border=\"1\" class=\"dataframe\">\n",
              "  <thead>\n",
              "    <tr style=\"text-align: right;\">\n",
              "      <th></th>\n",
              "      <th>AppID</th>\n",
              "      <th>Name</th>\n",
              "      <th>Release date</th>\n",
              "      <th>Estimated owners</th>\n",
              "      <th>Peak CCU</th>\n",
              "      <th>Required age</th>\n",
              "      <th>Price</th>\n",
              "      <th>DLC count</th>\n",
              "      <th>About the game</th>\n",
              "      <th>Supported languages</th>\n",
              "      <th>...</th>\n",
              "      <th>Average playtime two weeks</th>\n",
              "      <th>Median playtime forever</th>\n",
              "      <th>Median playtime two weeks</th>\n",
              "      <th>Developers</th>\n",
              "      <th>Publishers</th>\n",
              "      <th>Categories</th>\n",
              "      <th>Genres</th>\n",
              "      <th>Tags</th>\n",
              "      <th>Screenshots</th>\n",
              "      <th>Movies</th>\n",
              "    </tr>\n",
              "  </thead>\n",
              "  <tbody>\n",
              "    <tr>\n",
              "      <th>0</th>\n",
              "      <td>20200</td>\n",
              "      <td>Galactic Bowling</td>\n",
              "      <td>Oct 21, 2008</td>\n",
              "      <td>0 - 20000</td>\n",
              "      <td>0</td>\n",
              "      <td>0</td>\n",
              "      <td>19.99</td>\n",
              "      <td>0</td>\n",
              "      <td>Galactic Bowling is an exaggerated and stylize...</td>\n",
              "      <td>['English']</td>\n",
              "      <td>...</td>\n",
              "      <td>0</td>\n",
              "      <td>0</td>\n",
              "      <td>0</td>\n",
              "      <td>Perpetual FX Creative</td>\n",
              "      <td>Perpetual FX Creative</td>\n",
              "      <td>Single-player,Multi-player,Steam Achievements,...</td>\n",
              "      <td>Casual,Indie,Sports</td>\n",
              "      <td>Indie,Casual,Sports,Bowling</td>\n",
              "      <td>https://cdn.akamai.steamstatic.com/steam/apps/...</td>\n",
              "      <td>http://cdn.akamai.steamstatic.com/steam/apps/2...</td>\n",
              "    </tr>\n",
              "    <tr>\n",
              "      <th>1</th>\n",
              "      <td>655370</td>\n",
              "      <td>Train Bandit</td>\n",
              "      <td>Oct 12, 2017</td>\n",
              "      <td>0 - 20000</td>\n",
              "      <td>0</td>\n",
              "      <td>0</td>\n",
              "      <td>0.99</td>\n",
              "      <td>0</td>\n",
              "      <td>THE LAW!! Looks to be a showdown atop a train....</td>\n",
              "      <td>['English', 'French', 'Italian', 'German', 'Sp...</td>\n",
              "      <td>...</td>\n",
              "      <td>0</td>\n",
              "      <td>0</td>\n",
              "      <td>0</td>\n",
              "      <td>Rusty Moyher</td>\n",
              "      <td>Wild Rooster</td>\n",
              "      <td>Single-player,Steam Achievements,Full controll...</td>\n",
              "      <td>Action,Indie</td>\n",
              "      <td>Indie,Action,Pixel Graphics,2D,Retro,Arcade,Sc...</td>\n",
              "      <td>https://cdn.akamai.steamstatic.com/steam/apps/...</td>\n",
              "      <td>http://cdn.akamai.steamstatic.com/steam/apps/2...</td>\n",
              "    </tr>\n",
              "    <tr>\n",
              "      <th>2</th>\n",
              "      <td>1732930</td>\n",
              "      <td>Jolt Project</td>\n",
              "      <td>Nov 17, 2021</td>\n",
              "      <td>0 - 20000</td>\n",
              "      <td>0</td>\n",
              "      <td>0</td>\n",
              "      <td>4.99</td>\n",
              "      <td>0</td>\n",
              "      <td>Jolt Project: The army now has a new robotics ...</td>\n",
              "      <td>['English', 'Portuguese - Brazil']</td>\n",
              "      <td>...</td>\n",
              "      <td>0</td>\n",
              "      <td>0</td>\n",
              "      <td>0</td>\n",
              "      <td>Campião Games</td>\n",
              "      <td>Campião Games</td>\n",
              "      <td>Single-player</td>\n",
              "      <td>Action,Adventure,Indie,Strategy</td>\n",
              "      <td>NaN</td>\n",
              "      <td>https://cdn.akamai.steamstatic.com/steam/apps/...</td>\n",
              "      <td>http://cdn.akamai.steamstatic.com/steam/apps/2...</td>\n",
              "    </tr>\n",
              "    <tr>\n",
              "      <th>3</th>\n",
              "      <td>1355720</td>\n",
              "      <td>Henosis™</td>\n",
              "      <td>Jul 23, 2020</td>\n",
              "      <td>0 - 20000</td>\n",
              "      <td>0</td>\n",
              "      <td>0</td>\n",
              "      <td>5.99</td>\n",
              "      <td>0</td>\n",
              "      <td>HENOSIS™ is a mysterious 2D Platform Puzzler w...</td>\n",
              "      <td>['English', 'French', 'Italian', 'German', 'Sp...</td>\n",
              "      <td>...</td>\n",
              "      <td>0</td>\n",
              "      <td>0</td>\n",
              "      <td>0</td>\n",
              "      <td>Odd Critter Games</td>\n",
              "      <td>Odd Critter Games</td>\n",
              "      <td>Single-player,Full controller support</td>\n",
              "      <td>Adventure,Casual,Indie</td>\n",
              "      <td>2D Platformer,Atmospheric,Surreal,Mystery,Puzz...</td>\n",
              "      <td>https://cdn.akamai.steamstatic.com/steam/apps/...</td>\n",
              "      <td>http://cdn.akamai.steamstatic.com/steam/apps/2...</td>\n",
              "    </tr>\n",
              "    <tr>\n",
              "      <th>4</th>\n",
              "      <td>1139950</td>\n",
              "      <td>Two Weeks in Painland</td>\n",
              "      <td>Feb 3, 2020</td>\n",
              "      <td>0 - 20000</td>\n",
              "      <td>0</td>\n",
              "      <td>0</td>\n",
              "      <td>0.00</td>\n",
              "      <td>0</td>\n",
              "      <td>ABOUT THE GAME Play as a hacker who has arrang...</td>\n",
              "      <td>['English', 'Spanish - Spain']</td>\n",
              "      <td>...</td>\n",
              "      <td>0</td>\n",
              "      <td>0</td>\n",
              "      <td>0</td>\n",
              "      <td>Unusual Games</td>\n",
              "      <td>Unusual Games</td>\n",
              "      <td>Single-player,Steam Achievements</td>\n",
              "      <td>Adventure,Indie</td>\n",
              "      <td>Indie,Adventure,Nudity,Violent,Sexual Content,...</td>\n",
              "      <td>https://cdn.akamai.steamstatic.com/steam/apps/...</td>\n",
              "      <td>http://cdn.akamai.steamstatic.com/steam/apps/2...</td>\n",
              "    </tr>\n",
              "  </tbody>\n",
              "</table>\n",
              "<p>5 rows × 39 columns</p>\n",
              "</div>"
            ],
            "text/plain": [
              "     AppID                   Name  Release date Estimated owners  Peak CCU  \\\n",
              "0    20200       Galactic Bowling  Oct 21, 2008        0 - 20000         0   \n",
              "1   655370           Train Bandit  Oct 12, 2017        0 - 20000         0   \n",
              "2  1732930           Jolt Project  Nov 17, 2021        0 - 20000         0   \n",
              "3  1355720               Henosis™  Jul 23, 2020        0 - 20000         0   \n",
              "4  1139950  Two Weeks in Painland   Feb 3, 2020        0 - 20000         0   \n",
              "\n",
              "   Required age  Price  DLC count  \\\n",
              "0             0  19.99          0   \n",
              "1             0   0.99          0   \n",
              "2             0   4.99          0   \n",
              "3             0   5.99          0   \n",
              "4             0   0.00          0   \n",
              "\n",
              "                                      About the game  \\\n",
              "0  Galactic Bowling is an exaggerated and stylize...   \n",
              "1  THE LAW!! Looks to be a showdown atop a train....   \n",
              "2  Jolt Project: The army now has a new robotics ...   \n",
              "3  HENOSIS™ is a mysterious 2D Platform Puzzler w...   \n",
              "4  ABOUT THE GAME Play as a hacker who has arrang...   \n",
              "\n",
              "                                 Supported languages  ...  \\\n",
              "0                                        ['English']  ...   \n",
              "1  ['English', 'French', 'Italian', 'German', 'Sp...  ...   \n",
              "2                 ['English', 'Portuguese - Brazil']  ...   \n",
              "3  ['English', 'French', 'Italian', 'German', 'Sp...  ...   \n",
              "4                     ['English', 'Spanish - Spain']  ...   \n",
              "\n",
              "  Average playtime two weeks Median playtime forever  \\\n",
              "0                          0                       0   \n",
              "1                          0                       0   \n",
              "2                          0                       0   \n",
              "3                          0                       0   \n",
              "4                          0                       0   \n",
              "\n",
              "  Median playtime two weeks             Developers             Publishers  \\\n",
              "0                         0  Perpetual FX Creative  Perpetual FX Creative   \n",
              "1                         0           Rusty Moyher           Wild Rooster   \n",
              "2                         0          Campião Games          Campião Games   \n",
              "3                         0      Odd Critter Games      Odd Critter Games   \n",
              "4                         0          Unusual Games          Unusual Games   \n",
              "\n",
              "                                          Categories  \\\n",
              "0  Single-player,Multi-player,Steam Achievements,...   \n",
              "1  Single-player,Steam Achievements,Full controll...   \n",
              "2                                      Single-player   \n",
              "3              Single-player,Full controller support   \n",
              "4                   Single-player,Steam Achievements   \n",
              "\n",
              "                            Genres  \\\n",
              "0              Casual,Indie,Sports   \n",
              "1                     Action,Indie   \n",
              "2  Action,Adventure,Indie,Strategy   \n",
              "3           Adventure,Casual,Indie   \n",
              "4                  Adventure,Indie   \n",
              "\n",
              "                                                Tags  \\\n",
              "0                        Indie,Casual,Sports,Bowling   \n",
              "1  Indie,Action,Pixel Graphics,2D,Retro,Arcade,Sc...   \n",
              "2                                                NaN   \n",
              "3  2D Platformer,Atmospheric,Surreal,Mystery,Puzz...   \n",
              "4  Indie,Adventure,Nudity,Violent,Sexual Content,...   \n",
              "\n",
              "                                         Screenshots  \\\n",
              "0  https://cdn.akamai.steamstatic.com/steam/apps/...   \n",
              "1  https://cdn.akamai.steamstatic.com/steam/apps/...   \n",
              "2  https://cdn.akamai.steamstatic.com/steam/apps/...   \n",
              "3  https://cdn.akamai.steamstatic.com/steam/apps/...   \n",
              "4  https://cdn.akamai.steamstatic.com/steam/apps/...   \n",
              "\n",
              "                                              Movies  \n",
              "0  http://cdn.akamai.steamstatic.com/steam/apps/2...  \n",
              "1  http://cdn.akamai.steamstatic.com/steam/apps/2...  \n",
              "2  http://cdn.akamai.steamstatic.com/steam/apps/2...  \n",
              "3  http://cdn.akamai.steamstatic.com/steam/apps/2...  \n",
              "4  http://cdn.akamai.steamstatic.com/steam/apps/2...  \n",
              "\n",
              "[5 rows x 39 columns]"
            ]
          },
          "execution_count": 3,
          "metadata": {},
          "output_type": "execute_result"
        }
      ],
      "source": [
        "games.head()"
      ]
    },
    {
      "cell_type": "code",
      "execution_count": null,
      "id": "c1a97ed8-e63c-4473-a76d-663285ecfea8",
      "metadata": {
        "id": "c1a97ed8-e63c-4473-a76d-663285ecfea8"
      },
      "outputs": [],
      "source": [
        "games = games.iloc[:25000]"
      ]
    },
    {
      "cell_type": "code",
      "execution_count": null,
      "id": "a7530821-955a-4b08-b7c8-3307682917fc",
      "metadata": {
        "id": "a7530821-955a-4b08-b7c8-3307682917fc",
        "outputId": "3de07446-ccec-4bfc-8b22-b67e3d6d20a4"
      },
      "outputs": [
        {
          "data": {
            "text/plain": [
              "(25000, 39)"
            ]
          },
          "execution_count": 5,
          "metadata": {},
          "output_type": "execute_result"
        }
      ],
      "source": [
        "games.shape"
      ]
    },
    {
      "cell_type": "code",
      "execution_count": null,
      "id": "92470fee-1a4f-41a9-975e-1d82ce29ba95",
      "metadata": {
        "id": "92470fee-1a4f-41a9-975e-1d82ce29ba95",
        "outputId": "36f73de8-cf0f-4e7c-87f9-e33dfcce0b7f"
      },
      "outputs": [
        {
          "data": {
            "text/html": [
              "<div>\n",
              "<style scoped>\n",
              "    .dataframe tbody tr th:only-of-type {\n",
              "        vertical-align: middle;\n",
              "    }\n",
              "\n",
              "    .dataframe tbody tr th {\n",
              "        vertical-align: top;\n",
              "    }\n",
              "\n",
              "    .dataframe thead th {\n",
              "        text-align: right;\n",
              "    }\n",
              "</style>\n",
              "<table border=\"1\" class=\"dataframe\">\n",
              "  <thead>\n",
              "    <tr style=\"text-align: right;\">\n",
              "      <th></th>\n",
              "      <th>AppID</th>\n",
              "      <th>Name</th>\n",
              "      <th>Release date</th>\n",
              "      <th>Estimated owners</th>\n",
              "      <th>Peak CCU</th>\n",
              "      <th>Required age</th>\n",
              "      <th>Price</th>\n",
              "      <th>DLC count</th>\n",
              "      <th>About the game</th>\n",
              "      <th>Supported languages</th>\n",
              "      <th>...</th>\n",
              "      <th>Average playtime two weeks</th>\n",
              "      <th>Median playtime forever</th>\n",
              "      <th>Median playtime two weeks</th>\n",
              "      <th>Developers</th>\n",
              "      <th>Publishers</th>\n",
              "      <th>Categories</th>\n",
              "      <th>Genres</th>\n",
              "      <th>Tags</th>\n",
              "      <th>Screenshots</th>\n",
              "      <th>Movies</th>\n",
              "    </tr>\n",
              "  </thead>\n",
              "  <tbody>\n",
              "    <tr>\n",
              "      <th>0</th>\n",
              "      <td>20200</td>\n",
              "      <td>Galactic Bowling</td>\n",
              "      <td>Oct 21, 2008</td>\n",
              "      <td>0 - 20000</td>\n",
              "      <td>0</td>\n",
              "      <td>0</td>\n",
              "      <td>19.99</td>\n",
              "      <td>0</td>\n",
              "      <td>Galactic Bowling is an exaggerated and stylize...</td>\n",
              "      <td>['English']</td>\n",
              "      <td>...</td>\n",
              "      <td>0</td>\n",
              "      <td>0</td>\n",
              "      <td>0</td>\n",
              "      <td>Perpetual FX Creative</td>\n",
              "      <td>Perpetual FX Creative</td>\n",
              "      <td>Single-player,Multi-player,Steam Achievements,...</td>\n",
              "      <td>Casual,Indie,Sports</td>\n",
              "      <td>Indie,Casual,Sports,Bowling</td>\n",
              "      <td>https://cdn.akamai.steamstatic.com/steam/apps/...</td>\n",
              "      <td>http://cdn.akamai.steamstatic.com/steam/apps/2...</td>\n",
              "    </tr>\n",
              "    <tr>\n",
              "      <th>1</th>\n",
              "      <td>655370</td>\n",
              "      <td>Train Bandit</td>\n",
              "      <td>Oct 12, 2017</td>\n",
              "      <td>0 - 20000</td>\n",
              "      <td>0</td>\n",
              "      <td>0</td>\n",
              "      <td>0.99</td>\n",
              "      <td>0</td>\n",
              "      <td>THE LAW!! Looks to be a showdown atop a train....</td>\n",
              "      <td>['English', 'French', 'Italian', 'German', 'Sp...</td>\n",
              "      <td>...</td>\n",
              "      <td>0</td>\n",
              "      <td>0</td>\n",
              "      <td>0</td>\n",
              "      <td>Rusty Moyher</td>\n",
              "      <td>Wild Rooster</td>\n",
              "      <td>Single-player,Steam Achievements,Full controll...</td>\n",
              "      <td>Action,Indie</td>\n",
              "      <td>Indie,Action,Pixel Graphics,2D,Retro,Arcade,Sc...</td>\n",
              "      <td>https://cdn.akamai.steamstatic.com/steam/apps/...</td>\n",
              "      <td>http://cdn.akamai.steamstatic.com/steam/apps/2...</td>\n",
              "    </tr>\n",
              "    <tr>\n",
              "      <th>2</th>\n",
              "      <td>1732930</td>\n",
              "      <td>Jolt Project</td>\n",
              "      <td>Nov 17, 2021</td>\n",
              "      <td>0 - 20000</td>\n",
              "      <td>0</td>\n",
              "      <td>0</td>\n",
              "      <td>4.99</td>\n",
              "      <td>0</td>\n",
              "      <td>Jolt Project: The army now has a new robotics ...</td>\n",
              "      <td>['English', 'Portuguese - Brazil']</td>\n",
              "      <td>...</td>\n",
              "      <td>0</td>\n",
              "      <td>0</td>\n",
              "      <td>0</td>\n",
              "      <td>Campião Games</td>\n",
              "      <td>Campião Games</td>\n",
              "      <td>Single-player</td>\n",
              "      <td>Action,Adventure,Indie,Strategy</td>\n",
              "      <td>NaN</td>\n",
              "      <td>https://cdn.akamai.steamstatic.com/steam/apps/...</td>\n",
              "      <td>http://cdn.akamai.steamstatic.com/steam/apps/2...</td>\n",
              "    </tr>\n",
              "    <tr>\n",
              "      <th>3</th>\n",
              "      <td>1355720</td>\n",
              "      <td>Henosis™</td>\n",
              "      <td>Jul 23, 2020</td>\n",
              "      <td>0 - 20000</td>\n",
              "      <td>0</td>\n",
              "      <td>0</td>\n",
              "      <td>5.99</td>\n",
              "      <td>0</td>\n",
              "      <td>HENOSIS™ is a mysterious 2D Platform Puzzler w...</td>\n",
              "      <td>['English', 'French', 'Italian', 'German', 'Sp...</td>\n",
              "      <td>...</td>\n",
              "      <td>0</td>\n",
              "      <td>0</td>\n",
              "      <td>0</td>\n",
              "      <td>Odd Critter Games</td>\n",
              "      <td>Odd Critter Games</td>\n",
              "      <td>Single-player,Full controller support</td>\n",
              "      <td>Adventure,Casual,Indie</td>\n",
              "      <td>2D Platformer,Atmospheric,Surreal,Mystery,Puzz...</td>\n",
              "      <td>https://cdn.akamai.steamstatic.com/steam/apps/...</td>\n",
              "      <td>http://cdn.akamai.steamstatic.com/steam/apps/2...</td>\n",
              "    </tr>\n",
              "    <tr>\n",
              "      <th>4</th>\n",
              "      <td>1139950</td>\n",
              "      <td>Two Weeks in Painland</td>\n",
              "      <td>Feb 3, 2020</td>\n",
              "      <td>0 - 20000</td>\n",
              "      <td>0</td>\n",
              "      <td>0</td>\n",
              "      <td>0.00</td>\n",
              "      <td>0</td>\n",
              "      <td>ABOUT THE GAME Play as a hacker who has arrang...</td>\n",
              "      <td>['English', 'Spanish - Spain']</td>\n",
              "      <td>...</td>\n",
              "      <td>0</td>\n",
              "      <td>0</td>\n",
              "      <td>0</td>\n",
              "      <td>Unusual Games</td>\n",
              "      <td>Unusual Games</td>\n",
              "      <td>Single-player,Steam Achievements</td>\n",
              "      <td>Adventure,Indie</td>\n",
              "      <td>Indie,Adventure,Nudity,Violent,Sexual Content,...</td>\n",
              "      <td>https://cdn.akamai.steamstatic.com/steam/apps/...</td>\n",
              "      <td>http://cdn.akamai.steamstatic.com/steam/apps/2...</td>\n",
              "    </tr>\n",
              "  </tbody>\n",
              "</table>\n",
              "<p>5 rows × 39 columns</p>\n",
              "</div>"
            ],
            "text/plain": [
              "     AppID                   Name  Release date Estimated owners  Peak CCU  \\\n",
              "0    20200       Galactic Bowling  Oct 21, 2008        0 - 20000         0   \n",
              "1   655370           Train Bandit  Oct 12, 2017        0 - 20000         0   \n",
              "2  1732930           Jolt Project  Nov 17, 2021        0 - 20000         0   \n",
              "3  1355720               Henosis™  Jul 23, 2020        0 - 20000         0   \n",
              "4  1139950  Two Weeks in Painland   Feb 3, 2020        0 - 20000         0   \n",
              "\n",
              "   Required age  Price  DLC count  \\\n",
              "0             0  19.99          0   \n",
              "1             0   0.99          0   \n",
              "2             0   4.99          0   \n",
              "3             0   5.99          0   \n",
              "4             0   0.00          0   \n",
              "\n",
              "                                      About the game  \\\n",
              "0  Galactic Bowling is an exaggerated and stylize...   \n",
              "1  THE LAW!! Looks to be a showdown atop a train....   \n",
              "2  Jolt Project: The army now has a new robotics ...   \n",
              "3  HENOSIS™ is a mysterious 2D Platform Puzzler w...   \n",
              "4  ABOUT THE GAME Play as a hacker who has arrang...   \n",
              "\n",
              "                                 Supported languages  ...  \\\n",
              "0                                        ['English']  ...   \n",
              "1  ['English', 'French', 'Italian', 'German', 'Sp...  ...   \n",
              "2                 ['English', 'Portuguese - Brazil']  ...   \n",
              "3  ['English', 'French', 'Italian', 'German', 'Sp...  ...   \n",
              "4                     ['English', 'Spanish - Spain']  ...   \n",
              "\n",
              "  Average playtime two weeks Median playtime forever  \\\n",
              "0                          0                       0   \n",
              "1                          0                       0   \n",
              "2                          0                       0   \n",
              "3                          0                       0   \n",
              "4                          0                       0   \n",
              "\n",
              "  Median playtime two weeks             Developers             Publishers  \\\n",
              "0                         0  Perpetual FX Creative  Perpetual FX Creative   \n",
              "1                         0           Rusty Moyher           Wild Rooster   \n",
              "2                         0          Campião Games          Campião Games   \n",
              "3                         0      Odd Critter Games      Odd Critter Games   \n",
              "4                         0          Unusual Games          Unusual Games   \n",
              "\n",
              "                                          Categories  \\\n",
              "0  Single-player,Multi-player,Steam Achievements,...   \n",
              "1  Single-player,Steam Achievements,Full controll...   \n",
              "2                                      Single-player   \n",
              "3              Single-player,Full controller support   \n",
              "4                   Single-player,Steam Achievements   \n",
              "\n",
              "                            Genres  \\\n",
              "0              Casual,Indie,Sports   \n",
              "1                     Action,Indie   \n",
              "2  Action,Adventure,Indie,Strategy   \n",
              "3           Adventure,Casual,Indie   \n",
              "4                  Adventure,Indie   \n",
              "\n",
              "                                                Tags  \\\n",
              "0                        Indie,Casual,Sports,Bowling   \n",
              "1  Indie,Action,Pixel Graphics,2D,Retro,Arcade,Sc...   \n",
              "2                                                NaN   \n",
              "3  2D Platformer,Atmospheric,Surreal,Mystery,Puzz...   \n",
              "4  Indie,Adventure,Nudity,Violent,Sexual Content,...   \n",
              "\n",
              "                                         Screenshots  \\\n",
              "0  https://cdn.akamai.steamstatic.com/steam/apps/...   \n",
              "1  https://cdn.akamai.steamstatic.com/steam/apps/...   \n",
              "2  https://cdn.akamai.steamstatic.com/steam/apps/...   \n",
              "3  https://cdn.akamai.steamstatic.com/steam/apps/...   \n",
              "4  https://cdn.akamai.steamstatic.com/steam/apps/...   \n",
              "\n",
              "                                              Movies  \n",
              "0  http://cdn.akamai.steamstatic.com/steam/apps/2...  \n",
              "1  http://cdn.akamai.steamstatic.com/steam/apps/2...  \n",
              "2  http://cdn.akamai.steamstatic.com/steam/apps/2...  \n",
              "3  http://cdn.akamai.steamstatic.com/steam/apps/2...  \n",
              "4  http://cdn.akamai.steamstatic.com/steam/apps/2...  \n",
              "\n",
              "[5 rows x 39 columns]"
            ]
          },
          "execution_count": 6,
          "metadata": {},
          "output_type": "execute_result"
        }
      ],
      "source": [
        "games.head()"
      ]
    },
    {
      "cell_type": "code",
      "execution_count": null,
      "id": "72223181-706e-4137-b9b5-3ab28c5d6165",
      "metadata": {
        "id": "72223181-706e-4137-b9b5-3ab28c5d6165",
        "outputId": "6d1423aa-8787-45a9-dc34-6bbc9f4c95cf"
      },
      "outputs": [
        {
          "data": {
            "text/plain": [
              "Supported languages\n",
              "['English']                                                                                                                                                                                                                                                                 13270\n",
              "['English', 'Russian']                                                                                                                                                                                                                                                        793\n",
              "[]                                                                                                                                                                                                                                                                            601\n",
              "['Simplified Chinese']                                                                                                                                                                                                                                                        505\n",
              "['English', 'Simplified Chinese']                                                                                                                                                                                                                                             456\n",
              "                                                                                                                                                                                                                                                                            ...  \n",
              "['Simplified Chinese', 'English', 'Korean', 'Japanese']                                                                                                                                                                                                                         1\n",
              "['English', 'German', 'Arabic']                                                                                                                                                                                                                                                 1\n",
              "['English', 'French', 'German', 'Simplified Chinese', 'Traditional Chinese', 'Italian', 'Spanish - Spain', 'Japanese', 'Korean', 'Polish', 'Portuguese - Brazil', 'Russian', 'Thai', 'Hungarian']                                                                               1\n",
              "['English', 'Korean', 'Japanese', 'French', 'Italian', 'German', 'Spanish - Spain', 'Danish', 'Finnish', 'Norwegian', 'Polish', 'Portuguese - Brazil', 'Russian', 'Simplified Chinese', 'Spanish - Latin America', 'Swedish', 'Traditional Chinese', 'Turkish', 'Dutch']        1\n",
              "['English', 'Japanese', 'Simplified Chinese', 'Russian']                                                                                                                                                                                                                        1\n",
              "Name: count, Length: 4099, dtype: int64"
            ]
          },
          "execution_count": 7,
          "metadata": {},
          "output_type": "execute_result"
        }
      ],
      "source": [
        "games['Supported languages'].value_counts()"
      ]
    },
    {
      "cell_type": "code",
      "execution_count": null,
      "id": "03fce69d-6c85-44e3-9750-920bffd9704b",
      "metadata": {
        "id": "03fce69d-6c85-44e3-9750-920bffd9704b",
        "outputId": "bf8a7bb6-84d6-4516-a033-1d03ec344d0a"
      },
      "outputs": [
        {
          "name": "stdout",
          "output_type": "stream",
          "text": [
            "<class 'pandas.core.frame.DataFrame'>\n",
            "RangeIndex: 25000 entries, 0 to 24999\n",
            "Data columns (total 39 columns):\n",
            " #   Column                      Non-Null Count  Dtype  \n",
            "---  ------                      --------------  -----  \n",
            " 0   AppID                       25000 non-null  int64  \n",
            " 1   Name                        25000 non-null  object \n",
            " 2   Release date                25000 non-null  object \n",
            " 3   Estimated owners            25000 non-null  object \n",
            " 4   Peak CCU                    25000 non-null  int64  \n",
            " 5   Required age                25000 non-null  int64  \n",
            " 6   Price                       25000 non-null  float64\n",
            " 7   DLC count                   25000 non-null  int64  \n",
            " 8   About the game              24369 non-null  object \n",
            " 9   Supported languages         25000 non-null  object \n",
            " 10  Full audio languages        25000 non-null  object \n",
            " 11  Reviews                     3581 non-null   object \n",
            " 12  Header image                25000 non-null  object \n",
            " 13  Website                     12922 non-null  object \n",
            " 14  Support url                 13145 non-null  object \n",
            " 15  Support email               21255 non-null  object \n",
            " 16  Windows                     25000 non-null  bool   \n",
            " 17  Mac                         25000 non-null  bool   \n",
            " 18  Linux                       25000 non-null  bool   \n",
            " 19  Metacritic score            25000 non-null  int64  \n",
            " 20  Metacritic url              1478 non-null   object \n",
            " 21  User score                  25000 non-null  int64  \n",
            " 22  Positive                    25000 non-null  int64  \n",
            " 23  Negative                    25000 non-null  int64  \n",
            " 24  Score rank                  20 non-null     float64\n",
            " 25  Achievements                25000 non-null  int64  \n",
            " 26  Recommendations             25000 non-null  int64  \n",
            " 27  Notes                       3399 non-null   object \n",
            " 28  Average playtime forever    25000 non-null  int64  \n",
            " 29  Average playtime two weeks  25000 non-null  int64  \n",
            " 30  Median playtime forever     25000 non-null  int64  \n",
            " 31  Median playtime two weeks   25000 non-null  int64  \n",
            " 32  Developers                  24366 non-null  object \n",
            " 33  Publishers                  24262 non-null  object \n",
            " 34  Categories                  24016 non-null  object \n",
            " 35  Genres                      24373 non-null  object \n",
            " 36  Tags                        21762 non-null  object \n",
            " 37  Screenshots                 24672 non-null  object \n",
            " 38  Movies                      23372 non-null  object \n",
            "dtypes: bool(3), float64(2), int64(14), object(20)\n",
            "memory usage: 6.9+ MB\n"
          ]
        }
      ],
      "source": [
        "games.info()"
      ]
    },
    {
      "cell_type": "code",
      "execution_count": null,
      "id": "74a8a7f7-d1ee-4665-b0e3-67cf8b45a497",
      "metadata": {
        "id": "74a8a7f7-d1ee-4665-b0e3-67cf8b45a497"
      },
      "outputs": [],
      "source": [
        "# Genres...\n",
        "# AppID...\n",
        "# Tags...\n",
        "# Supported languages... XXX\n",
        "# Name...\n",
        "# About the game...\n",
        "# Categories\n",
        "# Developers\n",
        "\n",
        "game = games[['AppID', 'Name', 'About the game', 'Supported languages', 'Genres', 'Tags', 'Categories', 'Developers']]"
      ]
    },
    {
      "cell_type": "code",
      "execution_count": null,
      "id": "385308a0-256e-4661-9b90-004ed85e514d",
      "metadata": {
        "id": "385308a0-256e-4661-9b90-004ed85e514d",
        "outputId": "04400496-a990-43ef-cfd0-3f29e47e5d44"
      },
      "outputs": [
        {
          "data": {
            "text/plain": [
              "AppID                     0\n",
              "Name                      0\n",
              "About the game          631\n",
              "Supported languages       0\n",
              "Genres                  627\n",
              "Tags                   3238\n",
              "Categories              984\n",
              "Developers              634\n",
              "dtype: int64"
            ]
          },
          "execution_count": 10,
          "metadata": {},
          "output_type": "execute_result"
        }
      ],
      "source": [
        "game.isnull().sum() # to check any empty terms"
      ]
    },
    {
      "cell_type": "code",
      "execution_count": null,
      "id": "0af33418-ce5b-4c8a-8353-87f84a14ff26",
      "metadata": {
        "id": "0af33418-ce5b-4c8a-8353-87f84a14ff26",
        "outputId": "efa03e8e-76f3-47e8-cd0e-cf2a2c06ca13"
      },
      "outputs": [
        {
          "name": "stderr",
          "output_type": "stream",
          "text": [
            "C:\\Users\\hp\\AppData\\Local\\Temp\\ipykernel_6676\\1843747245.py:1: SettingWithCopyWarning: \n",
            "A value is trying to be set on a copy of a slice from a DataFrame\n",
            "\n",
            "See the caveats in the documentation: https://pandas.pydata.org/pandas-docs/stable/user_guide/indexing.html#returning-a-view-versus-a-copy\n",
            "  game.dropna(inplace=True) # to delete them\n"
          ]
        }
      ],
      "source": [
        "game.dropna(inplace=True) # to delete them"
      ]
    },
    {
      "cell_type": "code",
      "execution_count": null,
      "id": "2676f868-5c8c-4824-8fe8-fb13b0e3c6e0",
      "metadata": {
        "id": "2676f868-5c8c-4824-8fe8-fb13b0e3c6e0",
        "outputId": "6b0e6a79-491e-47a7-c958-7da942d8bd59"
      },
      "outputs": [
        {
          "data": {
            "text/plain": [
              "0"
            ]
          },
          "execution_count": 12,
          "metadata": {},
          "output_type": "execute_result"
        }
      ],
      "source": [
        "game.duplicated().sum() # to check for duplicate terms"
      ]
    },
    {
      "cell_type": "code",
      "execution_count": null,
      "id": "1feb6b24-360b-49f5-9502-3780b3d9e6c1",
      "metadata": {
        "id": "1feb6b24-360b-49f5-9502-3780b3d9e6c1",
        "outputId": "eec79b61-44f5-44af-d59d-ac6948aed1a7"
      },
      "outputs": [
        {
          "name": "stderr",
          "output_type": "stream",
          "text": [
            "C:\\Users\\hp\\AppData\\Local\\Temp\\ipykernel_6676\\2083646410.py:2: SettingWithCopyWarning: \n",
            "A value is trying to be set on a copy of a slice from a DataFrame.\n",
            "Try using .loc[row_indexer,col_indexer] = value instead\n",
            "\n",
            "See the caveats in the documentation: https://pandas.pydata.org/pandas-docs/stable/user_guide/indexing.html#returning-a-view-versus-a-copy\n",
            "  game['Genres'] = game['Genres'].apply(lambda x: x.split(','))\n",
            "C:\\Users\\hp\\AppData\\Local\\Temp\\ipykernel_6676\\2083646410.py:3: SettingWithCopyWarning: \n",
            "A value is trying to be set on a copy of a slice from a DataFrame.\n",
            "Try using .loc[row_indexer,col_indexer] = value instead\n",
            "\n",
            "See the caveats in the documentation: https://pandas.pydata.org/pandas-docs/stable/user_guide/indexing.html#returning-a-view-versus-a-copy\n",
            "  game['Tags'] = game['Tags'].apply(lambda x: x.split(','))\n",
            "C:\\Users\\hp\\AppData\\Local\\Temp\\ipykernel_6676\\2083646410.py:4: SettingWithCopyWarning: \n",
            "A value is trying to be set on a copy of a slice from a DataFrame.\n",
            "Try using .loc[row_indexer,col_indexer] = value instead\n",
            "\n",
            "See the caveats in the documentation: https://pandas.pydata.org/pandas-docs/stable/user_guide/indexing.html#returning-a-view-versus-a-copy\n",
            "  game['Categories'] = game['Categories'].apply(lambda x: x.split(','))\n"
          ]
        }
      ],
      "source": [
        "# data preprocessing, making list\n",
        "game['Genres'] = game['Genres'].apply(lambda x: x.split(','))\n",
        "game['Tags'] = game['Tags'].apply(lambda x: x.split(','))\n",
        "game['Categories'] = game['Categories'].apply(lambda x: x.split(','))"
      ]
    },
    {
      "cell_type": "code",
      "execution_count": null,
      "id": "f79c7a82-92e0-4532-ad0d-3195b42cff8b",
      "metadata": {
        "id": "f79c7a82-92e0-4532-ad0d-3195b42cff8b",
        "outputId": "df8d89b5-a2a0-469c-8b63-0213be24e8ad"
      },
      "outputs": [
        {
          "name": "stderr",
          "output_type": "stream",
          "text": [
            "C:\\Users\\hp\\AppData\\Local\\Temp\\ipykernel_6676\\4279876798.py:2: SettingWithCopyWarning: \n",
            "A value is trying to be set on a copy of a slice from a DataFrame.\n",
            "Try using .loc[row_indexer,col_indexer] = value instead\n",
            "\n",
            "See the caveats in the documentation: https://pandas.pydata.org/pandas-docs/stable/user_guide/indexing.html#returning-a-view-versus-a-copy\n",
            "  game['About the game'] = game['About the game'].apply(lambda x: x.split())\n"
          ]
        }
      ],
      "source": [
        "# data preprocessing, making list\n",
        "game['About the game'] = game['About the game'].apply(lambda x: x.split())"
      ]
    },
    {
      "cell_type": "code",
      "execution_count": null,
      "id": "74378a9d-83af-489e-9a59-266d0e2b4bfe",
      "metadata": {
        "id": "74378a9d-83af-489e-9a59-266d0e2b4bfe",
        "outputId": "03f5fe82-db4e-4d53-8764-8b0d9deef1d6"
      },
      "outputs": [
        {
          "data": {
            "text/html": [
              "<div>\n",
              "<style scoped>\n",
              "    .dataframe tbody tr th:only-of-type {\n",
              "        vertical-align: middle;\n",
              "    }\n",
              "\n",
              "    .dataframe tbody tr th {\n",
              "        vertical-align: top;\n",
              "    }\n",
              "\n",
              "    .dataframe thead th {\n",
              "        text-align: right;\n",
              "    }\n",
              "</style>\n",
              "<table border=\"1\" class=\"dataframe\">\n",
              "  <thead>\n",
              "    <tr style=\"text-align: right;\">\n",
              "      <th></th>\n",
              "      <th>AppID</th>\n",
              "      <th>Name</th>\n",
              "      <th>About the game</th>\n",
              "      <th>Supported languages</th>\n",
              "      <th>Genres</th>\n",
              "      <th>Tags</th>\n",
              "      <th>Categories</th>\n",
              "      <th>Developers</th>\n",
              "    </tr>\n",
              "  </thead>\n",
              "  <tbody>\n",
              "    <tr>\n",
              "      <th>0</th>\n",
              "      <td>20200</td>\n",
              "      <td>Galactic Bowling</td>\n",
              "      <td>[Galactic, Bowling, is, an, exaggerated, and, ...</td>\n",
              "      <td>['English']</td>\n",
              "      <td>[Casual, Indie, Sports]</td>\n",
              "      <td>[Indie, Casual, Sports, Bowling]</td>\n",
              "      <td>[Single-player, Multi-player, Steam Achievemen...</td>\n",
              "      <td>Perpetual FX Creative</td>\n",
              "    </tr>\n",
              "    <tr>\n",
              "      <th>1</th>\n",
              "      <td>655370</td>\n",
              "      <td>Train Bandit</td>\n",
              "      <td>[THE, LAW!!, Looks, to, be, a, showdown, atop,...</td>\n",
              "      <td>['English', 'French', 'Italian', 'German', 'Sp...</td>\n",
              "      <td>[Action, Indie]</td>\n",
              "      <td>[Indie, Action, Pixel Graphics, 2D, Retro, Arc...</td>\n",
              "      <td>[Single-player, Steam Achievements, Full contr...</td>\n",
              "      <td>Rusty Moyher</td>\n",
              "    </tr>\n",
              "    <tr>\n",
              "      <th>3</th>\n",
              "      <td>1355720</td>\n",
              "      <td>Henosis™</td>\n",
              "      <td>[HENOSIS™, is, a, mysterious, 2D, Platform, Pu...</td>\n",
              "      <td>['English', 'French', 'Italian', 'German', 'Sp...</td>\n",
              "      <td>[Adventure, Casual, Indie]</td>\n",
              "      <td>[2D Platformer, Atmospheric, Surreal, Mystery,...</td>\n",
              "      <td>[Single-player, Full controller support]</td>\n",
              "      <td>Odd Critter Games</td>\n",
              "    </tr>\n",
              "    <tr>\n",
              "      <th>4</th>\n",
              "      <td>1139950</td>\n",
              "      <td>Two Weeks in Painland</td>\n",
              "      <td>[ABOUT, THE, GAME, Play, as, a, hacker, who, h...</td>\n",
              "      <td>['English', 'Spanish - Spain']</td>\n",
              "      <td>[Adventure, Indie]</td>\n",
              "      <td>[Indie, Adventure, Nudity, Violent, Sexual Con...</td>\n",
              "      <td>[Single-player, Steam Achievements]</td>\n",
              "      <td>Unusual Games</td>\n",
              "    </tr>\n",
              "    <tr>\n",
              "      <th>5</th>\n",
              "      <td>1469160</td>\n",
              "      <td>Wartune Reborn</td>\n",
              "      <td>[Feel, tired, of, auto-fight?, Feel, tired, of...</td>\n",
              "      <td>['English']</td>\n",
              "      <td>[Adventure, Casual, Free to Play, Massively Mu...</td>\n",
              "      <td>[Turn-Based Combat, Massively Multiplayer, Mul...</td>\n",
              "      <td>[Single-player, Multi-player, MMO, PvP, Online...</td>\n",
              "      <td>7Road</td>\n",
              "    </tr>\n",
              "  </tbody>\n",
              "</table>\n",
              "</div>"
            ],
            "text/plain": [
              "     AppID                   Name  \\\n",
              "0    20200       Galactic Bowling   \n",
              "1   655370           Train Bandit   \n",
              "3  1355720               Henosis™   \n",
              "4  1139950  Two Weeks in Painland   \n",
              "5  1469160         Wartune Reborn   \n",
              "\n",
              "                                      About the game  \\\n",
              "0  [Galactic, Bowling, is, an, exaggerated, and, ...   \n",
              "1  [THE, LAW!!, Looks, to, be, a, showdown, atop,...   \n",
              "3  [HENOSIS™, is, a, mysterious, 2D, Platform, Pu...   \n",
              "4  [ABOUT, THE, GAME, Play, as, a, hacker, who, h...   \n",
              "5  [Feel, tired, of, auto-fight?, Feel, tired, of...   \n",
              "\n",
              "                                 Supported languages  \\\n",
              "0                                        ['English']   \n",
              "1  ['English', 'French', 'Italian', 'German', 'Sp...   \n",
              "3  ['English', 'French', 'Italian', 'German', 'Sp...   \n",
              "4                     ['English', 'Spanish - Spain']   \n",
              "5                                        ['English']   \n",
              "\n",
              "                                              Genres  \\\n",
              "0                            [Casual, Indie, Sports]   \n",
              "1                                    [Action, Indie]   \n",
              "3                         [Adventure, Casual, Indie]   \n",
              "4                                 [Adventure, Indie]   \n",
              "5  [Adventure, Casual, Free to Play, Massively Mu...   \n",
              "\n",
              "                                                Tags  \\\n",
              "0                   [Indie, Casual, Sports, Bowling]   \n",
              "1  [Indie, Action, Pixel Graphics, 2D, Retro, Arc...   \n",
              "3  [2D Platformer, Atmospheric, Surreal, Mystery,...   \n",
              "4  [Indie, Adventure, Nudity, Violent, Sexual Con...   \n",
              "5  [Turn-Based Combat, Massively Multiplayer, Mul...   \n",
              "\n",
              "                                          Categories             Developers  \n",
              "0  [Single-player, Multi-player, Steam Achievemen...  Perpetual FX Creative  \n",
              "1  [Single-player, Steam Achievements, Full contr...           Rusty Moyher  \n",
              "3           [Single-player, Full controller support]      Odd Critter Games  \n",
              "4                [Single-player, Steam Achievements]          Unusual Games  \n",
              "5  [Single-player, Multi-player, MMO, PvP, Online...                  7Road  "
            ]
          },
          "execution_count": 15,
          "metadata": {},
          "output_type": "execute_result"
        }
      ],
      "source": [
        "game.head()"
      ]
    },
    {
      "cell_type": "code",
      "execution_count": null,
      "id": "c094e9fc-7f91-4d4e-b56a-3440ba288ebc",
      "metadata": {
        "id": "c094e9fc-7f91-4d4e-b56a-3440ba288ebc"
      },
      "outputs": [],
      "source": [
        "# extra has had to remove supported languages\n",
        "game = game[['AppID', 'Name', 'About the game', 'Genres', 'Tags', 'Categories', 'Developers']]"
      ]
    },
    {
      "cell_type": "code",
      "execution_count": null,
      "id": "170766c2-698e-405b-8511-3e259d9d3673",
      "metadata": {
        "id": "170766c2-698e-405b-8511-3e259d9d3673",
        "outputId": "1c6f47a7-7481-4c1a-ab7e-690af06ac5ea"
      },
      "outputs": [
        {
          "data": {
            "text/html": [
              "<div>\n",
              "<style scoped>\n",
              "    .dataframe tbody tr th:only-of-type {\n",
              "        vertical-align: middle;\n",
              "    }\n",
              "\n",
              "    .dataframe tbody tr th {\n",
              "        vertical-align: top;\n",
              "    }\n",
              "\n",
              "    .dataframe thead th {\n",
              "        text-align: right;\n",
              "    }\n",
              "</style>\n",
              "<table border=\"1\" class=\"dataframe\">\n",
              "  <thead>\n",
              "    <tr style=\"text-align: right;\">\n",
              "      <th></th>\n",
              "      <th>AppID</th>\n",
              "      <th>Name</th>\n",
              "      <th>About the game</th>\n",
              "      <th>Genres</th>\n",
              "      <th>Tags</th>\n",
              "      <th>Categories</th>\n",
              "      <th>Developers</th>\n",
              "    </tr>\n",
              "  </thead>\n",
              "  <tbody>\n",
              "    <tr>\n",
              "      <th>0</th>\n",
              "      <td>20200</td>\n",
              "      <td>Galactic Bowling</td>\n",
              "      <td>[Galactic, Bowling, is, an, exaggerated, and, ...</td>\n",
              "      <td>[Casual, Indie, Sports]</td>\n",
              "      <td>[Indie, Casual, Sports, Bowling]</td>\n",
              "      <td>[Single-player, Multi-player, Steam Achievemen...</td>\n",
              "      <td>Perpetual FX Creative</td>\n",
              "    </tr>\n",
              "    <tr>\n",
              "      <th>1</th>\n",
              "      <td>655370</td>\n",
              "      <td>Train Bandit</td>\n",
              "      <td>[THE, LAW!!, Looks, to, be, a, showdown, atop,...</td>\n",
              "      <td>[Action, Indie]</td>\n",
              "      <td>[Indie, Action, Pixel Graphics, 2D, Retro, Arc...</td>\n",
              "      <td>[Single-player, Steam Achievements, Full contr...</td>\n",
              "      <td>Rusty Moyher</td>\n",
              "    </tr>\n",
              "    <tr>\n",
              "      <th>3</th>\n",
              "      <td>1355720</td>\n",
              "      <td>Henosis™</td>\n",
              "      <td>[HENOSIS™, is, a, mysterious, 2D, Platform, Pu...</td>\n",
              "      <td>[Adventure, Casual, Indie]</td>\n",
              "      <td>[2D Platformer, Atmospheric, Surreal, Mystery,...</td>\n",
              "      <td>[Single-player, Full controller support]</td>\n",
              "      <td>Odd Critter Games</td>\n",
              "    </tr>\n",
              "    <tr>\n",
              "      <th>4</th>\n",
              "      <td>1139950</td>\n",
              "      <td>Two Weeks in Painland</td>\n",
              "      <td>[ABOUT, THE, GAME, Play, as, a, hacker, who, h...</td>\n",
              "      <td>[Adventure, Indie]</td>\n",
              "      <td>[Indie, Adventure, Nudity, Violent, Sexual Con...</td>\n",
              "      <td>[Single-player, Steam Achievements]</td>\n",
              "      <td>Unusual Games</td>\n",
              "    </tr>\n",
              "    <tr>\n",
              "      <th>5</th>\n",
              "      <td>1469160</td>\n",
              "      <td>Wartune Reborn</td>\n",
              "      <td>[Feel, tired, of, auto-fight?, Feel, tired, of...</td>\n",
              "      <td>[Adventure, Casual, Free to Play, Massively Mu...</td>\n",
              "      <td>[Turn-Based Combat, Massively Multiplayer, Mul...</td>\n",
              "      <td>[Single-player, Multi-player, MMO, PvP, Online...</td>\n",
              "      <td>7Road</td>\n",
              "    </tr>\n",
              "  </tbody>\n",
              "</table>\n",
              "</div>"
            ],
            "text/plain": [
              "     AppID                   Name  \\\n",
              "0    20200       Galactic Bowling   \n",
              "1   655370           Train Bandit   \n",
              "3  1355720               Henosis™   \n",
              "4  1139950  Two Weeks in Painland   \n",
              "5  1469160         Wartune Reborn   \n",
              "\n",
              "                                      About the game  \\\n",
              "0  [Galactic, Bowling, is, an, exaggerated, and, ...   \n",
              "1  [THE, LAW!!, Looks, to, be, a, showdown, atop,...   \n",
              "3  [HENOSIS™, is, a, mysterious, 2D, Platform, Pu...   \n",
              "4  [ABOUT, THE, GAME, Play, as, a, hacker, who, h...   \n",
              "5  [Feel, tired, of, auto-fight?, Feel, tired, of...   \n",
              "\n",
              "                                              Genres  \\\n",
              "0                            [Casual, Indie, Sports]   \n",
              "1                                    [Action, Indie]   \n",
              "3                         [Adventure, Casual, Indie]   \n",
              "4                                 [Adventure, Indie]   \n",
              "5  [Adventure, Casual, Free to Play, Massively Mu...   \n",
              "\n",
              "                                                Tags  \\\n",
              "0                   [Indie, Casual, Sports, Bowling]   \n",
              "1  [Indie, Action, Pixel Graphics, 2D, Retro, Arc...   \n",
              "3  [2D Platformer, Atmospheric, Surreal, Mystery,...   \n",
              "4  [Indie, Adventure, Nudity, Violent, Sexual Con...   \n",
              "5  [Turn-Based Combat, Massively Multiplayer, Mul...   \n",
              "\n",
              "                                          Categories             Developers  \n",
              "0  [Single-player, Multi-player, Steam Achievemen...  Perpetual FX Creative  \n",
              "1  [Single-player, Steam Achievements, Full contr...           Rusty Moyher  \n",
              "3           [Single-player, Full controller support]      Odd Critter Games  \n",
              "4                [Single-player, Steam Achievements]          Unusual Games  \n",
              "5  [Single-player, Multi-player, MMO, PvP, Online...                  7Road  "
            ]
          },
          "execution_count": 17,
          "metadata": {},
          "output_type": "execute_result"
        }
      ],
      "source": [
        "game.head()"
      ]
    },
    {
      "cell_type": "code",
      "execution_count": null,
      "id": "4bc88bc7-84fc-485d-9623-3a05aa33d289",
      "metadata": {
        "id": "4bc88bc7-84fc-485d-9623-3a05aa33d289"
      },
      "outputs": [],
      "source": [
        "# data preprocessing, making list\n",
        "game['Developers'] = game['Developers'].apply(lambda x: [x])"
      ]
    },
    {
      "cell_type": "code",
      "execution_count": null,
      "id": "f85d3fc2-fb95-4b89-a179-2edc331c4940",
      "metadata": {
        "id": "f85d3fc2-fb95-4b89-a179-2edc331c4940",
        "outputId": "a20f7378-8dac-4b18-bfb1-fb655b175a5e"
      },
      "outputs": [
        {
          "data": {
            "text/html": [
              "<div>\n",
              "<style scoped>\n",
              "    .dataframe tbody tr th:only-of-type {\n",
              "        vertical-align: middle;\n",
              "    }\n",
              "\n",
              "    .dataframe tbody tr th {\n",
              "        vertical-align: top;\n",
              "    }\n",
              "\n",
              "    .dataframe thead th {\n",
              "        text-align: right;\n",
              "    }\n",
              "</style>\n",
              "<table border=\"1\" class=\"dataframe\">\n",
              "  <thead>\n",
              "    <tr style=\"text-align: right;\">\n",
              "      <th></th>\n",
              "      <th>AppID</th>\n",
              "      <th>Name</th>\n",
              "      <th>About the game</th>\n",
              "      <th>Genres</th>\n",
              "      <th>Tags</th>\n",
              "      <th>Categories</th>\n",
              "      <th>Developers</th>\n",
              "    </tr>\n",
              "  </thead>\n",
              "  <tbody>\n",
              "    <tr>\n",
              "      <th>0</th>\n",
              "      <td>20200</td>\n",
              "      <td>Galactic Bowling</td>\n",
              "      <td>[Galactic, Bowling, is, an, exaggerated, and, ...</td>\n",
              "      <td>[Casual, Indie, Sports]</td>\n",
              "      <td>[Indie, Casual, Sports, Bowling]</td>\n",
              "      <td>[Single-player, Multi-player, Steam Achievemen...</td>\n",
              "      <td>[Perpetual FX Creative]</td>\n",
              "    </tr>\n",
              "    <tr>\n",
              "      <th>1</th>\n",
              "      <td>655370</td>\n",
              "      <td>Train Bandit</td>\n",
              "      <td>[THE, LAW!!, Looks, to, be, a, showdown, atop,...</td>\n",
              "      <td>[Action, Indie]</td>\n",
              "      <td>[Indie, Action, Pixel Graphics, 2D, Retro, Arc...</td>\n",
              "      <td>[Single-player, Steam Achievements, Full contr...</td>\n",
              "      <td>[Rusty Moyher]</td>\n",
              "    </tr>\n",
              "    <tr>\n",
              "      <th>3</th>\n",
              "      <td>1355720</td>\n",
              "      <td>Henosis™</td>\n",
              "      <td>[HENOSIS™, is, a, mysterious, 2D, Platform, Pu...</td>\n",
              "      <td>[Adventure, Casual, Indie]</td>\n",
              "      <td>[2D Platformer, Atmospheric, Surreal, Mystery,...</td>\n",
              "      <td>[Single-player, Full controller support]</td>\n",
              "      <td>[Odd Critter Games]</td>\n",
              "    </tr>\n",
              "    <tr>\n",
              "      <th>4</th>\n",
              "      <td>1139950</td>\n",
              "      <td>Two Weeks in Painland</td>\n",
              "      <td>[ABOUT, THE, GAME, Play, as, a, hacker, who, h...</td>\n",
              "      <td>[Adventure, Indie]</td>\n",
              "      <td>[Indie, Adventure, Nudity, Violent, Sexual Con...</td>\n",
              "      <td>[Single-player, Steam Achievements]</td>\n",
              "      <td>[Unusual Games]</td>\n",
              "    </tr>\n",
              "    <tr>\n",
              "      <th>5</th>\n",
              "      <td>1469160</td>\n",
              "      <td>Wartune Reborn</td>\n",
              "      <td>[Feel, tired, of, auto-fight?, Feel, tired, of...</td>\n",
              "      <td>[Adventure, Casual, Free to Play, Massively Mu...</td>\n",
              "      <td>[Turn-Based Combat, Massively Multiplayer, Mul...</td>\n",
              "      <td>[Single-player, Multi-player, MMO, PvP, Online...</td>\n",
              "      <td>[7Road]</td>\n",
              "    </tr>\n",
              "  </tbody>\n",
              "</table>\n",
              "</div>"
            ],
            "text/plain": [
              "     AppID                   Name  \\\n",
              "0    20200       Galactic Bowling   \n",
              "1   655370           Train Bandit   \n",
              "3  1355720               Henosis™   \n",
              "4  1139950  Two Weeks in Painland   \n",
              "5  1469160         Wartune Reborn   \n",
              "\n",
              "                                      About the game  \\\n",
              "0  [Galactic, Bowling, is, an, exaggerated, and, ...   \n",
              "1  [THE, LAW!!, Looks, to, be, a, showdown, atop,...   \n",
              "3  [HENOSIS™, is, a, mysterious, 2D, Platform, Pu...   \n",
              "4  [ABOUT, THE, GAME, Play, as, a, hacker, who, h...   \n",
              "5  [Feel, tired, of, auto-fight?, Feel, tired, of...   \n",
              "\n",
              "                                              Genres  \\\n",
              "0                            [Casual, Indie, Sports]   \n",
              "1                                    [Action, Indie]   \n",
              "3                         [Adventure, Casual, Indie]   \n",
              "4                                 [Adventure, Indie]   \n",
              "5  [Adventure, Casual, Free to Play, Massively Mu...   \n",
              "\n",
              "                                                Tags  \\\n",
              "0                   [Indie, Casual, Sports, Bowling]   \n",
              "1  [Indie, Action, Pixel Graphics, 2D, Retro, Arc...   \n",
              "3  [2D Platformer, Atmospheric, Surreal, Mystery,...   \n",
              "4  [Indie, Adventure, Nudity, Violent, Sexual Con...   \n",
              "5  [Turn-Based Combat, Massively Multiplayer, Mul...   \n",
              "\n",
              "                                          Categories               Developers  \n",
              "0  [Single-player, Multi-player, Steam Achievemen...  [Perpetual FX Creative]  \n",
              "1  [Single-player, Steam Achievements, Full contr...           [Rusty Moyher]  \n",
              "3           [Single-player, Full controller support]      [Odd Critter Games]  \n",
              "4                [Single-player, Steam Achievements]          [Unusual Games]  \n",
              "5  [Single-player, Multi-player, MMO, PvP, Online...                  [7Road]  "
            ]
          },
          "execution_count": 19,
          "metadata": {},
          "output_type": "execute_result"
        }
      ],
      "source": [
        "game.head()"
      ]
    },
    {
      "cell_type": "code",
      "execution_count": null,
      "id": "362b41e7-cb0f-44eb-b740-c822f3ec9fa4",
      "metadata": {
        "id": "362b41e7-cb0f-44eb-b740-c822f3ec9fa4"
      },
      "outputs": [],
      "source": [
        "# removing spaces\n",
        "game['Genres'] = game['Genres'].apply(lambda x:[i.replace(\" \",\"\") for i in x])\n",
        "game['Tags'] = game['Tags'].apply(lambda x:[i.replace(\" \",\"\") for i in x])\n",
        "game['Categories'] = game['Categories'].apply(lambda x:[i.replace(\" \",\"\") for i in x])\n",
        "game['Developers'] = game['Developers'].apply(lambda x:[i.replace(\" \",\"\") for i in x])"
      ]
    },
    {
      "cell_type": "code",
      "execution_count": null,
      "id": "1a94d16d-d256-4300-9f16-cb4ecc8cecd2",
      "metadata": {
        "id": "1a94d16d-d256-4300-9f16-cb4ecc8cecd2",
        "outputId": "32fe5f1f-2c7b-4fda-82c4-9019e858b84c"
      },
      "outputs": [
        {
          "data": {
            "text/html": [
              "<div>\n",
              "<style scoped>\n",
              "    .dataframe tbody tr th:only-of-type {\n",
              "        vertical-align: middle;\n",
              "    }\n",
              "\n",
              "    .dataframe tbody tr th {\n",
              "        vertical-align: top;\n",
              "    }\n",
              "\n",
              "    .dataframe thead th {\n",
              "        text-align: right;\n",
              "    }\n",
              "</style>\n",
              "<table border=\"1\" class=\"dataframe\">\n",
              "  <thead>\n",
              "    <tr style=\"text-align: right;\">\n",
              "      <th></th>\n",
              "      <th>AppID</th>\n",
              "      <th>Name</th>\n",
              "      <th>About the game</th>\n",
              "      <th>Genres</th>\n",
              "      <th>Tags</th>\n",
              "      <th>Categories</th>\n",
              "      <th>Developers</th>\n",
              "    </tr>\n",
              "  </thead>\n",
              "  <tbody>\n",
              "    <tr>\n",
              "      <th>0</th>\n",
              "      <td>20200</td>\n",
              "      <td>Galactic Bowling</td>\n",
              "      <td>[Galactic, Bowling, is, an, exaggerated, and, ...</td>\n",
              "      <td>[Casual, Indie, Sports]</td>\n",
              "      <td>[Indie, Casual, Sports, Bowling]</td>\n",
              "      <td>[Single-player, Multi-player, SteamAchievement...</td>\n",
              "      <td>[PerpetualFXCreative]</td>\n",
              "    </tr>\n",
              "    <tr>\n",
              "      <th>1</th>\n",
              "      <td>655370</td>\n",
              "      <td>Train Bandit</td>\n",
              "      <td>[THE, LAW!!, Looks, to, be, a, showdown, atop,...</td>\n",
              "      <td>[Action, Indie]</td>\n",
              "      <td>[Indie, Action, PixelGraphics, 2D, Retro, Arca...</td>\n",
              "      <td>[Single-player, SteamAchievements, Fullcontrol...</td>\n",
              "      <td>[RustyMoyher]</td>\n",
              "    </tr>\n",
              "    <tr>\n",
              "      <th>3</th>\n",
              "      <td>1355720</td>\n",
              "      <td>Henosis™</td>\n",
              "      <td>[HENOSIS™, is, a, mysterious, 2D, Platform, Pu...</td>\n",
              "      <td>[Adventure, Casual, Indie]</td>\n",
              "      <td>[2DPlatformer, Atmospheric, Surreal, Mystery, ...</td>\n",
              "      <td>[Single-player, Fullcontrollersupport]</td>\n",
              "      <td>[OddCritterGames]</td>\n",
              "    </tr>\n",
              "    <tr>\n",
              "      <th>4</th>\n",
              "      <td>1139950</td>\n",
              "      <td>Two Weeks in Painland</td>\n",
              "      <td>[ABOUT, THE, GAME, Play, as, a, hacker, who, h...</td>\n",
              "      <td>[Adventure, Indie]</td>\n",
              "      <td>[Indie, Adventure, Nudity, Violent, SexualCont...</td>\n",
              "      <td>[Single-player, SteamAchievements]</td>\n",
              "      <td>[UnusualGames]</td>\n",
              "    </tr>\n",
              "    <tr>\n",
              "      <th>5</th>\n",
              "      <td>1469160</td>\n",
              "      <td>Wartune Reborn</td>\n",
              "      <td>[Feel, tired, of, auto-fight?, Feel, tired, of...</td>\n",
              "      <td>[Adventure, Casual, FreetoPlay, MassivelyMulti...</td>\n",
              "      <td>[Turn-BasedCombat, MassivelyMultiplayer, Multi...</td>\n",
              "      <td>[Single-player, Multi-player, MMO, PvP, Online...</td>\n",
              "      <td>[7Road]</td>\n",
              "    </tr>\n",
              "  </tbody>\n",
              "</table>\n",
              "</div>"
            ],
            "text/plain": [
              "     AppID                   Name  \\\n",
              "0    20200       Galactic Bowling   \n",
              "1   655370           Train Bandit   \n",
              "3  1355720               Henosis™   \n",
              "4  1139950  Two Weeks in Painland   \n",
              "5  1469160         Wartune Reborn   \n",
              "\n",
              "                                      About the game  \\\n",
              "0  [Galactic, Bowling, is, an, exaggerated, and, ...   \n",
              "1  [THE, LAW!!, Looks, to, be, a, showdown, atop,...   \n",
              "3  [HENOSIS™, is, a, mysterious, 2D, Platform, Pu...   \n",
              "4  [ABOUT, THE, GAME, Play, as, a, hacker, who, h...   \n",
              "5  [Feel, tired, of, auto-fight?, Feel, tired, of...   \n",
              "\n",
              "                                              Genres  \\\n",
              "0                            [Casual, Indie, Sports]   \n",
              "1                                    [Action, Indie]   \n",
              "3                         [Adventure, Casual, Indie]   \n",
              "4                                 [Adventure, Indie]   \n",
              "5  [Adventure, Casual, FreetoPlay, MassivelyMulti...   \n",
              "\n",
              "                                                Tags  \\\n",
              "0                   [Indie, Casual, Sports, Bowling]   \n",
              "1  [Indie, Action, PixelGraphics, 2D, Retro, Arca...   \n",
              "3  [2DPlatformer, Atmospheric, Surreal, Mystery, ...   \n",
              "4  [Indie, Adventure, Nudity, Violent, SexualCont...   \n",
              "5  [Turn-BasedCombat, MassivelyMultiplayer, Multi...   \n",
              "\n",
              "                                          Categories             Developers  \n",
              "0  [Single-player, Multi-player, SteamAchievement...  [PerpetualFXCreative]  \n",
              "1  [Single-player, SteamAchievements, Fullcontrol...          [RustyMoyher]  \n",
              "3             [Single-player, Fullcontrollersupport]      [OddCritterGames]  \n",
              "4                 [Single-player, SteamAchievements]         [UnusualGames]  \n",
              "5  [Single-player, Multi-player, MMO, PvP, Online...                [7Road]  "
            ]
          },
          "execution_count": 21,
          "metadata": {},
          "output_type": "execute_result"
        }
      ],
      "source": [
        "game.head()"
      ]
    },
    {
      "cell_type": "code",
      "execution_count": null,
      "id": "fa0b122c-aa57-4076-8edb-7ddee15d10b8",
      "metadata": {
        "id": "fa0b122c-aa57-4076-8edb-7ddee15d10b8"
      },
      "outputs": [],
      "source": [
        "# creating a singular tag\n",
        "game['Tag'] = game['About the game'] + game['Genres'] + game['Tags'] + game['Categories'] + game['Developers']"
      ]
    },
    {
      "cell_type": "code",
      "execution_count": null,
      "id": "968033b2-8825-4ee5-a240-44a504f43dc2",
      "metadata": {
        "id": "968033b2-8825-4ee5-a240-44a504f43dc2",
        "outputId": "bf1d94c5-7a8d-4863-c7c4-f0461a89e83a"
      },
      "outputs": [
        {
          "data": {
            "text/html": [
              "<div>\n",
              "<style scoped>\n",
              "    .dataframe tbody tr th:only-of-type {\n",
              "        vertical-align: middle;\n",
              "    }\n",
              "\n",
              "    .dataframe tbody tr th {\n",
              "        vertical-align: top;\n",
              "    }\n",
              "\n",
              "    .dataframe thead th {\n",
              "        text-align: right;\n",
              "    }\n",
              "</style>\n",
              "<table border=\"1\" class=\"dataframe\">\n",
              "  <thead>\n",
              "    <tr style=\"text-align: right;\">\n",
              "      <th></th>\n",
              "      <th>AppID</th>\n",
              "      <th>Name</th>\n",
              "      <th>About the game</th>\n",
              "      <th>Genres</th>\n",
              "      <th>Tags</th>\n",
              "      <th>Categories</th>\n",
              "      <th>Developers</th>\n",
              "      <th>Tag</th>\n",
              "    </tr>\n",
              "  </thead>\n",
              "  <tbody>\n",
              "    <tr>\n",
              "      <th>0</th>\n",
              "      <td>20200</td>\n",
              "      <td>Galactic Bowling</td>\n",
              "      <td>[Galactic, Bowling, is, an, exaggerated, and, ...</td>\n",
              "      <td>[Casual, Indie, Sports]</td>\n",
              "      <td>[Indie, Casual, Sports, Bowling]</td>\n",
              "      <td>[Single-player, Multi-player, SteamAchievement...</td>\n",
              "      <td>[PerpetualFXCreative]</td>\n",
              "      <td>[Galactic, Bowling, is, an, exaggerated, and, ...</td>\n",
              "    </tr>\n",
              "    <tr>\n",
              "      <th>1</th>\n",
              "      <td>655370</td>\n",
              "      <td>Train Bandit</td>\n",
              "      <td>[THE, LAW!!, Looks, to, be, a, showdown, atop,...</td>\n",
              "      <td>[Action, Indie]</td>\n",
              "      <td>[Indie, Action, PixelGraphics, 2D, Retro, Arca...</td>\n",
              "      <td>[Single-player, SteamAchievements, Fullcontrol...</td>\n",
              "      <td>[RustyMoyher]</td>\n",
              "      <td>[THE, LAW!!, Looks, to, be, a, showdown, atop,...</td>\n",
              "    </tr>\n",
              "    <tr>\n",
              "      <th>3</th>\n",
              "      <td>1355720</td>\n",
              "      <td>Henosis™</td>\n",
              "      <td>[HENOSIS™, is, a, mysterious, 2D, Platform, Pu...</td>\n",
              "      <td>[Adventure, Casual, Indie]</td>\n",
              "      <td>[2DPlatformer, Atmospheric, Surreal, Mystery, ...</td>\n",
              "      <td>[Single-player, Fullcontrollersupport]</td>\n",
              "      <td>[OddCritterGames]</td>\n",
              "      <td>[HENOSIS™, is, a, mysterious, 2D, Platform, Pu...</td>\n",
              "    </tr>\n",
              "    <tr>\n",
              "      <th>4</th>\n",
              "      <td>1139950</td>\n",
              "      <td>Two Weeks in Painland</td>\n",
              "      <td>[ABOUT, THE, GAME, Play, as, a, hacker, who, h...</td>\n",
              "      <td>[Adventure, Indie]</td>\n",
              "      <td>[Indie, Adventure, Nudity, Violent, SexualCont...</td>\n",
              "      <td>[Single-player, SteamAchievements]</td>\n",
              "      <td>[UnusualGames]</td>\n",
              "      <td>[ABOUT, THE, GAME, Play, as, a, hacker, who, h...</td>\n",
              "    </tr>\n",
              "    <tr>\n",
              "      <th>5</th>\n",
              "      <td>1469160</td>\n",
              "      <td>Wartune Reborn</td>\n",
              "      <td>[Feel, tired, of, auto-fight?, Feel, tired, of...</td>\n",
              "      <td>[Adventure, Casual, FreetoPlay, MassivelyMulti...</td>\n",
              "      <td>[Turn-BasedCombat, MassivelyMultiplayer, Multi...</td>\n",
              "      <td>[Single-player, Multi-player, MMO, PvP, Online...</td>\n",
              "      <td>[7Road]</td>\n",
              "      <td>[Feel, tired, of, auto-fight?, Feel, tired, of...</td>\n",
              "    </tr>\n",
              "  </tbody>\n",
              "</table>\n",
              "</div>"
            ],
            "text/plain": [
              "     AppID                   Name  \\\n",
              "0    20200       Galactic Bowling   \n",
              "1   655370           Train Bandit   \n",
              "3  1355720               Henosis™   \n",
              "4  1139950  Two Weeks in Painland   \n",
              "5  1469160         Wartune Reborn   \n",
              "\n",
              "                                      About the game  \\\n",
              "0  [Galactic, Bowling, is, an, exaggerated, and, ...   \n",
              "1  [THE, LAW!!, Looks, to, be, a, showdown, atop,...   \n",
              "3  [HENOSIS™, is, a, mysterious, 2D, Platform, Pu...   \n",
              "4  [ABOUT, THE, GAME, Play, as, a, hacker, who, h...   \n",
              "5  [Feel, tired, of, auto-fight?, Feel, tired, of...   \n",
              "\n",
              "                                              Genres  \\\n",
              "0                            [Casual, Indie, Sports]   \n",
              "1                                    [Action, Indie]   \n",
              "3                         [Adventure, Casual, Indie]   \n",
              "4                                 [Adventure, Indie]   \n",
              "5  [Adventure, Casual, FreetoPlay, MassivelyMulti...   \n",
              "\n",
              "                                                Tags  \\\n",
              "0                   [Indie, Casual, Sports, Bowling]   \n",
              "1  [Indie, Action, PixelGraphics, 2D, Retro, Arca...   \n",
              "3  [2DPlatformer, Atmospheric, Surreal, Mystery, ...   \n",
              "4  [Indie, Adventure, Nudity, Violent, SexualCont...   \n",
              "5  [Turn-BasedCombat, MassivelyMultiplayer, Multi...   \n",
              "\n",
              "                                          Categories             Developers  \\\n",
              "0  [Single-player, Multi-player, SteamAchievement...  [PerpetualFXCreative]   \n",
              "1  [Single-player, SteamAchievements, Fullcontrol...          [RustyMoyher]   \n",
              "3             [Single-player, Fullcontrollersupport]      [OddCritterGames]   \n",
              "4                 [Single-player, SteamAchievements]         [UnusualGames]   \n",
              "5  [Single-player, Multi-player, MMO, PvP, Online...                [7Road]   \n",
              "\n",
              "                                                 Tag  \n",
              "0  [Galactic, Bowling, is, an, exaggerated, and, ...  \n",
              "1  [THE, LAW!!, Looks, to, be, a, showdown, atop,...  \n",
              "3  [HENOSIS™, is, a, mysterious, 2D, Platform, Pu...  \n",
              "4  [ABOUT, THE, GAME, Play, as, a, hacker, who, h...  \n",
              "5  [Feel, tired, of, auto-fight?, Feel, tired, of...  "
            ]
          },
          "execution_count": 23,
          "metadata": {},
          "output_type": "execute_result"
        }
      ],
      "source": [
        "game.head()"
      ]
    },
    {
      "cell_type": "code",
      "execution_count": null,
      "id": "ebc1f1c1-ced1-43e9-a255-19b6219ff995",
      "metadata": {
        "id": "ebc1f1c1-ced1-43e9-a255-19b6219ff995"
      },
      "outputs": [],
      "source": [
        "# creating new dataframe with only required stuff\n",
        "new_df = game[['AppID','Name','Tag']]"
      ]
    },
    {
      "cell_type": "code",
      "execution_count": null,
      "id": "263cb956-550a-404d-a8e1-0a437dc8c695",
      "metadata": {
        "id": "263cb956-550a-404d-a8e1-0a437dc8c695",
        "outputId": "6ee41548-a083-4560-f649-5f17603cd831"
      },
      "outputs": [
        {
          "name": "stderr",
          "output_type": "stream",
          "text": [
            "C:\\Users\\hp\\AppData\\Local\\Temp\\ipykernel_6676\\2750035958.py:2: SettingWithCopyWarning: \n",
            "A value is trying to be set on a copy of a slice from a DataFrame.\n",
            "Try using .loc[row_indexer,col_indexer] = value instead\n",
            "\n",
            "See the caveats in the documentation: https://pandas.pydata.org/pandas-docs/stable/user_guide/indexing.html#returning-a-view-versus-a-copy\n",
            "  new_df['Tag'] = new_df['Tag'].apply(lambda x:\" \".join(x))\n"
          ]
        }
      ],
      "source": [
        "# comma removal\n",
        "new_df['Tag'] = new_df['Tag'].apply(lambda x:\" \".join(x))"
      ]
    },
    {
      "cell_type": "code",
      "execution_count": null,
      "id": "9628c0ca-9901-4eb7-8370-ad52f7b10f2f",
      "metadata": {
        "id": "9628c0ca-9901-4eb7-8370-ad52f7b10f2f",
        "outputId": "e129a1e4-d011-4a8c-f711-d178d76be060"
      },
      "outputs": [
        {
          "data": {
            "text/html": [
              "<div>\n",
              "<style scoped>\n",
              "    .dataframe tbody tr th:only-of-type {\n",
              "        vertical-align: middle;\n",
              "    }\n",
              "\n",
              "    .dataframe tbody tr th {\n",
              "        vertical-align: top;\n",
              "    }\n",
              "\n",
              "    .dataframe thead th {\n",
              "        text-align: right;\n",
              "    }\n",
              "</style>\n",
              "<table border=\"1\" class=\"dataframe\">\n",
              "  <thead>\n",
              "    <tr style=\"text-align: right;\">\n",
              "      <th></th>\n",
              "      <th>AppID</th>\n",
              "      <th>Name</th>\n",
              "      <th>Tag</th>\n",
              "    </tr>\n",
              "  </thead>\n",
              "  <tbody>\n",
              "    <tr>\n",
              "      <th>0</th>\n",
              "      <td>20200</td>\n",
              "      <td>Galactic Bowling</td>\n",
              "      <td>Galactic Bowling is an exaggerated and stylize...</td>\n",
              "    </tr>\n",
              "    <tr>\n",
              "      <th>1</th>\n",
              "      <td>655370</td>\n",
              "      <td>Train Bandit</td>\n",
              "      <td>THE LAW!! Looks to be a showdown atop a train....</td>\n",
              "    </tr>\n",
              "    <tr>\n",
              "      <th>3</th>\n",
              "      <td>1355720</td>\n",
              "      <td>Henosis™</td>\n",
              "      <td>HENOSIS™ is a mysterious 2D Platform Puzzler w...</td>\n",
              "    </tr>\n",
              "    <tr>\n",
              "      <th>4</th>\n",
              "      <td>1139950</td>\n",
              "      <td>Two Weeks in Painland</td>\n",
              "      <td>ABOUT THE GAME Play as a hacker who has arrang...</td>\n",
              "    </tr>\n",
              "    <tr>\n",
              "      <th>5</th>\n",
              "      <td>1469160</td>\n",
              "      <td>Wartune Reborn</td>\n",
              "      <td>Feel tired of auto-fight? Feel tired of boring...</td>\n",
              "    </tr>\n",
              "  </tbody>\n",
              "</table>\n",
              "</div>"
            ],
            "text/plain": [
              "     AppID                   Name  \\\n",
              "0    20200       Galactic Bowling   \n",
              "1   655370           Train Bandit   \n",
              "3  1355720               Henosis™   \n",
              "4  1139950  Two Weeks in Painland   \n",
              "5  1469160         Wartune Reborn   \n",
              "\n",
              "                                                 Tag  \n",
              "0  Galactic Bowling is an exaggerated and stylize...  \n",
              "1  THE LAW!! Looks to be a showdown atop a train....  \n",
              "3  HENOSIS™ is a mysterious 2D Platform Puzzler w...  \n",
              "4  ABOUT THE GAME Play as a hacker who has arrang...  \n",
              "5  Feel tired of auto-fight? Feel tired of boring...  "
            ]
          },
          "execution_count": 26,
          "metadata": {},
          "output_type": "execute_result"
        }
      ],
      "source": [
        "new_df.head()"
      ]
    },
    {
      "cell_type": "code",
      "execution_count": null,
      "id": "aa7005a4-df87-433f-b035-5bff4496146c",
      "metadata": {
        "id": "aa7005a4-df87-433f-b035-5bff4496146c",
        "outputId": "e2dcdf36-0a65-4c84-c0f4-cdd28c9e6d34"
      },
      "outputs": [
        {
          "data": {
            "text/plain": [
              "\"Inspired by a variety of classic RPGs and Adventure games and developed by one person, Kor takes you on a journey through a unique alien world, battling enemies in an augmented-reality game that blends together turn-based strategy with execution-based button combos. The quicker you are, the more effective your attacks will be. Navigate your way through fast-paced puzzles and overcome foes to win the Kor tournament and prove that you deserve to become Chosen - rising above the exploitation that awaits those you defeated along the way! Or not ... Features: Attacks in schools of Nature, Fire, Water, Shadow, Earth, and Storm - each with their own playstyle, which you can mix and match! A Warper that lets you teleport a short distance, allowing you to solve puzzles - and slip into places you shouldn't be. A challenging intended difficulty, with an optional story mode. Retro-style sprites, tiles, animations, interfaces, etc., all drawn pixel-by-pixel. A true-to-style, non-standard base resolution of 160x144. 21 different color palettes to choose from, changing the color of the whole game. Manually assignable stat points you can tailor to suit your needs. At least one NPC who will call you a 'chumpling.' Easter eggs you'll probably never even see. Adventure Indie RPG Strategy RPG Indie PixelGraphics Adventure Turn-BasedCombat 2D Singleplayer Top-Down OpenWorld Turn-BasedStrategy 1990's Turn-BasedTactics Cute Sci-fi Modern Fantasy Funny Magic OldSchool Tactical Single-player SteamAchievements Fullcontrollersupport SteamCloud Goadstool\""
            ]
          },
          "execution_count": 27,
          "metadata": {},
          "output_type": "execute_result"
        }
      ],
      "source": [
        "#example\n",
        "new_df['Tag'][100]"
      ]
    },
    {
      "cell_type": "code",
      "execution_count": null,
      "id": "9798855e-6090-4e6f-8639-7ac3edcf0278",
      "metadata": {
        "id": "9798855e-6090-4e6f-8639-7ac3edcf0278",
        "outputId": "427b13aa-3d02-4f24-9b5c-3954406901da"
      },
      "outputs": [
        {
          "name": "stderr",
          "output_type": "stream",
          "text": [
            "C:\\Users\\hp\\AppData\\Local\\Temp\\ipykernel_6676\\1845793571.py:2: SettingWithCopyWarning: \n",
            "A value is trying to be set on a copy of a slice from a DataFrame.\n",
            "Try using .loc[row_indexer,col_indexer] = value instead\n",
            "\n",
            "See the caveats in the documentation: https://pandas.pydata.org/pandas-docs/stable/user_guide/indexing.html#returning-a-view-versus-a-copy\n",
            "  new_df['Tag'] = new_df['Tag'].apply(lambda x:x.lower())\n"
          ]
        }
      ],
      "source": [
        "#converted it to lower case\n",
        "new_df['Tag'] = new_df['Tag'].apply(lambda x:x.lower())"
      ]
    },
    {
      "cell_type": "code",
      "execution_count": null,
      "id": "21668610-8417-484e-880c-4a82480a25e3",
      "metadata": {
        "id": "21668610-8417-484e-880c-4a82480a25e3",
        "outputId": "7a184719-6ad2-4276-c1dc-e527f507c1a1"
      },
      "outputs": [
        {
          "data": {
            "text/html": [
              "<div>\n",
              "<style scoped>\n",
              "    .dataframe tbody tr th:only-of-type {\n",
              "        vertical-align: middle;\n",
              "    }\n",
              "\n",
              "    .dataframe tbody tr th {\n",
              "        vertical-align: top;\n",
              "    }\n",
              "\n",
              "    .dataframe thead th {\n",
              "        text-align: right;\n",
              "    }\n",
              "</style>\n",
              "<table border=\"1\" class=\"dataframe\">\n",
              "  <thead>\n",
              "    <tr style=\"text-align: right;\">\n",
              "      <th></th>\n",
              "      <th>AppID</th>\n",
              "      <th>Name</th>\n",
              "      <th>Tag</th>\n",
              "    </tr>\n",
              "  </thead>\n",
              "  <tbody>\n",
              "    <tr>\n",
              "      <th>0</th>\n",
              "      <td>20200</td>\n",
              "      <td>Galactic Bowling</td>\n",
              "      <td>galactic bowling is an exaggerated and stylize...</td>\n",
              "    </tr>\n",
              "    <tr>\n",
              "      <th>1</th>\n",
              "      <td>655370</td>\n",
              "      <td>Train Bandit</td>\n",
              "      <td>the law!! looks to be a showdown atop a train....</td>\n",
              "    </tr>\n",
              "    <tr>\n",
              "      <th>3</th>\n",
              "      <td>1355720</td>\n",
              "      <td>Henosis™</td>\n",
              "      <td>henosis™ is a mysterious 2d platform puzzler w...</td>\n",
              "    </tr>\n",
              "    <tr>\n",
              "      <th>4</th>\n",
              "      <td>1139950</td>\n",
              "      <td>Two Weeks in Painland</td>\n",
              "      <td>about the game play as a hacker who has arrang...</td>\n",
              "    </tr>\n",
              "    <tr>\n",
              "      <th>5</th>\n",
              "      <td>1469160</td>\n",
              "      <td>Wartune Reborn</td>\n",
              "      <td>feel tired of auto-fight? feel tired of boring...</td>\n",
              "    </tr>\n",
              "  </tbody>\n",
              "</table>\n",
              "</div>"
            ],
            "text/plain": [
              "     AppID                   Name  \\\n",
              "0    20200       Galactic Bowling   \n",
              "1   655370           Train Bandit   \n",
              "3  1355720               Henosis™   \n",
              "4  1139950  Two Weeks in Painland   \n",
              "5  1469160         Wartune Reborn   \n",
              "\n",
              "                                                 Tag  \n",
              "0  galactic bowling is an exaggerated and stylize...  \n",
              "1  the law!! looks to be a showdown atop a train....  \n",
              "3  henosis™ is a mysterious 2d platform puzzler w...  \n",
              "4  about the game play as a hacker who has arrang...  \n",
              "5  feel tired of auto-fight? feel tired of boring...  "
            ]
          },
          "execution_count": 29,
          "metadata": {},
          "output_type": "execute_result"
        }
      ],
      "source": [
        "new_df.head()"
      ]
    },
    {
      "cell_type": "code",
      "execution_count": null,
      "id": "6ecb578e-ead8-4162-8e69-21344f49dbaf",
      "metadata": {
        "id": "6ecb578e-ead8-4162-8e69-21344f49dbaf"
      },
      "outputs": [],
      "source": [
        "# let's use stemming to remove all the useless stuff, for example: activity and activities are 2 different words but same meaning\n",
        "import nltk"
      ]
    },
    {
      "cell_type": "code",
      "execution_count": null,
      "id": "307dc2ee-4643-43f2-8fd8-3a87aba7c579",
      "metadata": {
        "id": "307dc2ee-4643-43f2-8fd8-3a87aba7c579"
      },
      "outputs": [],
      "source": [
        "from nltk.stem.porter import PorterStemmer\n",
        "ps = PorterStemmer()"
      ]
    },
    {
      "cell_type": "code",
      "execution_count": null,
      "id": "f592bb63-74a3-43bf-abbd-c69d65f04f58",
      "metadata": {
        "id": "f592bb63-74a3-43bf-abbd-c69d65f04f58"
      },
      "outputs": [],
      "source": [
        "def stem(text):\n",
        "    y = []\n",
        "    for i in text.split():\n",
        "        y.append(ps.stem(i))\n",
        "    return \" \".join(y)"
      ]
    },
    {
      "cell_type": "code",
      "execution_count": null,
      "id": "49679c0f-41ef-4d83-a98c-13c8b95491de",
      "metadata": {
        "id": "49679c0f-41ef-4d83-a98c-13c8b95491de",
        "outputId": "ef7ac7f8-603c-4c4b-bc75-a9cf99e08a88"
      },
      "outputs": [
        {
          "data": {
            "text/plain": [
              "0        galact bowl is an exagger and styliz bowl game...\n",
              "1        the law!! look to be a showdown atop a train. ...\n",
              "3        henosis™ is a mysteri 2d platform puzzler wher...\n",
              "4        about the game play as a hacker who ha arrang ...\n",
              "5        feel tire of auto-fight? feel tire of bore num...\n",
              "                               ...                        \n",
              "24994    the region - is an open world in which mani ac...\n",
              "24995    a deep and twist fantasi world with heroes, bi...\n",
              "24997    singleplay and multiplay bomb mad choos your g...\n",
              "24998    infin war is a turn-bas multiplay game in the ...\n",
              "24999    zombi conquer the land of tokyo. without hope,...\n",
              "Name: Tag, Length: 21377, dtype: object"
            ]
          },
          "execution_count": 33,
          "metadata": {},
          "output_type": "execute_result"
        }
      ],
      "source": [
        "new_df['Tag'].apply(stem)"
      ]
    },
    {
      "cell_type": "code",
      "execution_count": null,
      "id": "19ad833d-7eed-4c19-98a4-854e2ec8e6c9",
      "metadata": {
        "id": "19ad833d-7eed-4c19-98a4-854e2ec8e6c9",
        "outputId": "cbbe69ea-413e-4768-f775-a5f47d623bde"
      },
      "outputs": [
        {
          "data": {
            "text/plain": [
              "\"death is lonely. he has zero friends on his facetome account and no one to hang out with. so, in order to feel better he begins “project deadlings”. death buys a factory where he can build his laboratory and begin training a massive army of zombie minions. as the army of deadlings grows, the mazes of the laboratory become deadlier, loaded with puzzles and death-defying traps. different deadlings have their own unique abilities: bonesack is agile - he can run and jump, creep can climb on walls and ceilings, lazybrain treads slowly but carefully and stencher... well stencher has gastric problems so he can use his powerful gas clouds to fly. you will have to combine all of these abilities to find your way in death's maze. can you help death to kill his boredom? will you be able to navigate all 60+ levels available in deadlings? will you complete project deadlings, and successfully train all of your zombie minions? arcade side-scroller with strategy elements! four different types of zombie minions with unique abilities! 70 levels of pure zombie gore fun! additional game mode - nightmare - only for the hardcore gamers! what's new in the rotten edition? 10 brand new bonus levels 15 new levels in nightmare mode steam achievements and leaderboards full controller support nightmare mode unlocked from the beginning steam trading cards and badges hd graphics action adventure indie action indie adventure puzzle-platformer arcade zombies single-player steamachievements steamtradingcards partialcontrollersupport steamcloud onemorelevel\""
            ]
          },
          "execution_count": 34,
          "metadata": {},
          "output_type": "execute_result"
        }
      ],
      "source": [
        "new_df['Tag'][9]"
      ]
    },
    {
      "cell_type": "code",
      "execution_count": null,
      "id": "c57a94d0-7080-4aa4-bc90-2b07bb2f4753",
      "metadata": {
        "id": "c57a94d0-7080-4aa4-bc90-2b07bb2f4753",
        "outputId": "9cffbc0f-94c2-4b3c-c534-fc80bb6ff3bf"
      },
      "outputs": [
        {
          "data": {
            "text/plain": [
              "(21377, 3)"
            ]
          },
          "execution_count": 35,
          "metadata": {},
          "output_type": "execute_result"
        }
      ],
      "source": [
        "new_df.shape"
      ]
    },
    {
      "cell_type": "code",
      "execution_count": null,
      "id": "1e3f8eac-6df9-4e61-a2cf-039059307157",
      "metadata": {
        "id": "1e3f8eac-6df9-4e61-a2cf-039059307157"
      },
      "outputs": [],
      "source": [
        "# So we'll create vectors from the tags, the closest vectors will be shown as recommendations\n",
        "# This technique is called Text Vectorization\n",
        "# And in Text Vectorization there are many techniques we are using BAG OF WORDS technique"
      ]
    },
    {
      "cell_type": "code",
      "execution_count": null,
      "id": "212996ba-f468-4f5c-b34c-24ce76577a9d",
      "metadata": {
        "id": "212996ba-f468-4f5c-b34c-24ce76577a9d"
      },
      "outputs": [],
      "source": [
        "from sklearn.feature_extraction.text import CountVectorizer\n",
        "cv = CountVectorizer(max_features=5000, stop_words='english')\n",
        "# creates vectors and removes common english words such as 'is', 'a', etc\n",
        "# here's the library link: https://scikit-learn.org/stable/modules/generated/sklearn.feature_extraction.text.CountVectorizer.html"
      ]
    },
    {
      "cell_type": "code",
      "execution_count": null,
      "id": "849a3c64-fd54-483a-bcd6-f546194f2a2a",
      "metadata": {
        "id": "849a3c64-fd54-483a-bcd6-f546194f2a2a"
      },
      "outputs": [],
      "source": [
        "vectors = cv.fit_transform(new_df['Tag']).toarray()\n",
        "# creates an array of vectors"
      ]
    },
    {
      "cell_type": "code",
      "execution_count": null,
      "id": "94eb85bf-7c69-47ea-9411-d707b69cc91a",
      "metadata": {
        "id": "94eb85bf-7c69-47ea-9411-d707b69cc91a",
        "outputId": "973689d4-064f-479e-a50a-db0718eaae6e"
      },
      "outputs": [
        {
          "data": {
            "text/plain": [
              "array([[0, 0, 0, ..., 0, 0, 0],\n",
              "       [0, 0, 0, ..., 0, 0, 0],\n",
              "       [0, 0, 0, ..., 0, 0, 0],\n",
              "       ...,\n",
              "       [0, 0, 0, ..., 0, 0, 0],\n",
              "       [0, 0, 0, ..., 0, 0, 0],\n",
              "       [0, 0, 0, ..., 0, 0, 0]], dtype=int64)"
            ]
          },
          "execution_count": 39,
          "metadata": {},
          "output_type": "execute_result"
        }
      ],
      "source": [
        "vectors"
      ]
    },
    {
      "cell_type": "code",
      "execution_count": null,
      "id": "2812e41f-0a41-4300-872f-92821936eb4a",
      "metadata": {
        "id": "2812e41f-0a41-4300-872f-92821936eb4a",
        "outputId": "5e187fcd-c06d-4541-d49b-6f370bf463c1"
      },
      "outputs": [
        {
          "data": {
            "text/plain": [
              "array(['000', '10', '100', ..., 'zones', 'zoo', 'zoom'], dtype=object)"
            ]
          },
          "execution_count": 40,
          "metadata": {},
          "output_type": "execute_result"
        }
      ],
      "source": [
        "cv.get_feature_names_out()\n",
        "# most repeated 5000 words in our corpus"
      ]
    },
    {
      "cell_type": "code",
      "execution_count": null,
      "id": "e2046fe1-ae17-46fa-94b8-5298b7728a35",
      "metadata": {
        "id": "e2046fe1-ae17-46fa-94b8-5298b7728a35"
      },
      "outputs": [],
      "source": [
        "# So now we'll find the cosine similarity of these vectors:\n",
        "#https://scikit-learn.org/stable/modules/generated/sklearn.metrics.pairwise.cosine_similarity.html\n",
        "from sklearn.metrics.pairwise import cosine_similarity # this fucntion gives answer in 0s and 1s; 1 means more similarity, 0 mean less similarity"
      ]
    },
    {
      "cell_type": "code",
      "execution_count": null,
      "id": "3a45c323-e9fd-4e23-9262-968bca3b7773",
      "metadata": {
        "id": "3a45c323-e9fd-4e23-9262-968bca3b7773"
      },
      "outputs": [],
      "source": [
        "similarity = cosine_similarity(vectors)"
      ]
    },
    {
      "cell_type": "code",
      "execution_count": null,
      "id": "aa171e03-f9d4-4574-bcfb-b45f1d50d68b",
      "metadata": {
        "id": "aa171e03-f9d4-4574-bcfb-b45f1d50d68b",
        "outputId": "3e8bb591-d07c-49ba-c910-752873449e65"
      },
      "outputs": [
        {
          "data": {
            "text/plain": [
              "array([[1.        , 0.20388849, 0.22612591, ..., 0.25270923, 0.21572864,\n",
              "        0.16662219],\n",
              "       [0.20388849, 1.        , 0.15962617, ..., 0.1520078 , 0.10077787,\n",
              "        0.18518259],\n",
              "       [0.22612591, 0.15962617, 1.        , ..., 0.20948651, 0.11367995,\n",
              "        0.15271833],\n",
              "       ...,\n",
              "       [0.25270923, 0.1520078 , 0.20948651, ..., 1.        , 0.39138139,\n",
              "        0.14427238],\n",
              "       [0.21572864, 0.10077787, 0.11367995, ..., 0.39138139, 1.        ,\n",
              "        0.10550425],\n",
              "       [0.16662219, 0.18518259, 0.15271833, ..., 0.14427238, 0.10550425,\n",
              "        1.        ]])"
            ]
          },
          "execution_count": 43,
          "metadata": {},
          "output_type": "execute_result"
        }
      ],
      "source": [
        "similarity"
      ]
    },
    {
      "cell_type": "code",
      "execution_count": null,
      "id": "79dbc867-73cd-4938-ae1a-1035bf1b8afb",
      "metadata": {
        "id": "79dbc867-73cd-4938-ae1a-1035bf1b8afb"
      },
      "outputs": [],
      "source": [
        "def recommend(game):\n",
        "    game_index = new_df[new_df['Name'] == game].index[0]\n",
        "    distances = similarity[game_index]\n",
        "    games_list = sorted(list(enumerate(distances)), reverse = True, key = lambda x:x[1])[1:6]\n",
        "\n",
        "    for i in games_list:\n",
        "        print(new_df.iloc[i[0]].Name)\n",
        "    return"
      ]
    },
    {
      "cell_type": "code",
      "execution_count": null,
      "id": "3f3c455f-5bdb-407e-ad54-55c9f07413a6",
      "metadata": {
        "id": "3f3c455f-5bdb-407e-ad54-55c9f07413a6",
        "outputId": "cda01c7a-c161-4cf4-89a5-47445bb54f52"
      },
      "outputs": [
        {
          "name": "stdout",
          "output_type": "stream",
          "text": [
            "District 112 Incident: Bowling Alley\n",
            "Premium Bowling\n",
            "Alley Cat Bowling\n",
            "YamaYama\n",
            "Pinheads Bowling VR\n"
          ]
        }
      ],
      "source": [
        "recommend('Galactic Bowling')"
      ]
    },
    {
      "cell_type": "code",
      "source": [],
      "metadata": {
        "id": "jVeDA8gD51Gq"
      },
      "id": "jVeDA8gD51Gq",
      "execution_count": null,
      "outputs": []
    }
  ],
  "metadata": {
    "kernelspec": {
      "display_name": "Python 3 (ipykernel)",
      "language": "python",
      "name": "python3"
    },
    "language_info": {
      "codemirror_mode": {
        "name": "ipython",
        "version": 3
      },
      "file_extension": ".py",
      "mimetype": "text/x-python",
      "name": "python",
      "nbconvert_exporter": "python",
      "pygments_lexer": "ipython3",
      "version": "3.11.3"
    },
    "colab": {
      "provenance": [],
      "include_colab_link": true
    }
  },
  "nbformat": 4,
  "nbformat_minor": 5
}